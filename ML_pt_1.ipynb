{
  "nbformat": 4,
  "nbformat_minor": 0,
  "metadata": {
    "colab": {
      "name": "ML pt 1.ipynb",
      "version": "0.3.2",
      "provenance": [],
      "collapsed_sections": []
    },
    "kernelspec": {
      "name": "python3",
      "display_name": "Python 3"
    },
    "accelerator": "GPU"
  },
  "cells": [
    {
      "metadata": {
        "id": "pwn63DDTkhUv",
        "colab_type": "code",
        "colab": {}
      },
      "cell_type": "code",
      "source": [
        "import pandas as pd\n",
        "import numpy as np \n",
        "import random\n",
        "import math\n",
        "from sklearn.metrics.cluster import adjusted_rand_score\n",
        "\n",
        "\n",
        "dataset = pd.read_csv('https://drive.google.com/' + \n",
        "                   'uc?id=1xz08-XSlUjkjYbjsvXfo88uGvai12_SD&export=download')\n",
        "\n",
        "X_shape_view = dataset.iloc[:,1:10].values\n",
        "X_RGB_view = dataset.iloc[:,10:21].values\n",
        "X_full_view = dataset.iloc[:,1:21].values\n",
        "y = dataset.iloc[:,0].values"
      ],
      "execution_count": 0,
      "outputs": []
    },
    {
      "metadata": {
        "id": "xOEyQI2NlKD_",
        "colab_type": "text"
      },
      "cell_type": "markdown",
      "source": [
        "Distances\n"
      ]
    },
    {
      "metadata": {
        "id": "W5cczP6vkrD2",
        "colab_type": "code",
        "colab": {}
      },
      "cell_type": "code",
      "source": [
        "def define_pair_distances(X):\n",
        "  data_size = len(X)\n",
        "  \n",
        "  distances = []\n",
        "  for i in range(0, data_size):\n",
        "      for j in range(0, data_size):\n",
        "        if i<j:\n",
        "          distances.append(np.linalg.norm(X[i,:] - X[j,:])) \n",
        "  \n",
        "  return distances\n",
        "\n",
        "#defineDistances(X_shape_view)"
      ],
      "execution_count": 0,
      "outputs": []
    },
    {
      "metadata": {
        "id": "mtwuv96Ulbav",
        "colab_type": "text"
      },
      "cell_type": "markdown",
      "source": [
        "Gama definition and random prototypes selection"
      ]
    },
    {
      "metadata": {
        "id": "EiBgQb8QmGzb",
        "colab_type": "code",
        "colab": {}
      },
      "cell_type": "code",
      "source": [
        "def get_gama(distances, p):  \n",
        "  ten_percent = np.percentile(distances, 10)\n",
        "  ninety_percent = np.percentile(distances, 90)\n",
        "  \n",
        "  return (2/(ten_percent + ninety_percent))**p\n",
        "  \n",
        "def random_prototypes(X):\n",
        "  return X[random.sample(range(0,len(X)), 7)]\n",
        "\n",
        "def hyperparameters_initialization(X, gama):\n",
        "  return np.full(p, gama**(1/p))\n",
        "\n",
        "\n",
        "  "
      ],
      "execution_count": 0,
      "outputs": []
    },
    {
      "metadata": {
        "id": "VykWopyemVpa",
        "colab_type": "text"
      },
      "cell_type": "markdown",
      "source": [
        "\n",
        "**kernel and assigns**\n",
        "\n",
        "\n"
      ]
    },
    {
      "metadata": {
        "id": "xir3FUFjrnVs",
        "colab_type": "code",
        "colab": {}
      },
      "cell_type": "code",
      "source": [
        "def kernel(xl, xk, hyperparameters):\n",
        "  return math.exp(-0.5*sum(np.multiply((xl - xk)**2, hyperparameters)))\n",
        "\n",
        "import time\n",
        "\n",
        "def xl_pi(xk, Pi, S):\n",
        "  \n",
        "\n",
        "  return \n",
        "\n",
        "def intra_pi(Pi, S):\n",
        "  \n",
        "      \n",
        "  return \n",
        "\n",
        "def distance_feature_space(xk, Pi, S):\n",
        "  xk_pi = 0\n",
        "  intra_pi = 0\n",
        "  \n",
        "  for xl in Pi:\n",
        "      xk_pi += kernel(xk, xl, S)\n",
        " \n",
        "  for xr in Pi:\n",
        "    for xs in Pi:\n",
        "      intra_pi += kernel(xr, xs, S)\n",
        "  \n",
        "    \n",
        "  return (1 - 2*(xk_pi/(len(Pi))) + intra_pi/(len(Pi)**2))\n",
        "\n",
        "\n",
        "\n",
        "def initial_assign_to_cluster(X, partitions, hyperparameters):\n",
        "  # TRANSFORM INITIAL SELECTION IN PARTITIONS \n",
        "  new_partition = []\n",
        "  for i, partition in enumerate(partitions):\n",
        "      new_partition.append([partition])\n",
        "\n",
        "  partitions = new_partition\n",
        "  # TRANSFORM INITIAL SELECTION IN PARTITIONS\n",
        "  distance_matrix = []\n",
        "  for x in X:\n",
        "    partitions_distances = []\n",
        "    for partition in partitions:\n",
        "      partitions_distances.append(distance_feature_space(x, partition, hyperparameters))\n",
        " \n",
        "    distance_matrix.append(partitions_distances)\n",
        "  \n",
        "  print(np.shape(distance_matrix))\n",
        "  #flat array with assignments\n",
        "  return np.argmin(distance_matrix, axis=1)\n",
        "\n",
        "\n",
        "def flat_to_partition(X, assignments):\n",
        "  partitions = []\n",
        "  assignments = np.array(assignments)\n",
        "  \n",
        "  for i in range(0, 7):\n",
        "    partitions.append(X[assignments == i, :])     \n",
        " \n",
        "  return partitions\n",
        "  \n",
        "  \n",
        "import time\n",
        "def build_representation_matrix(X, assignments, hyperparameters):\n",
        "  # TRANSFORMING FLAT ARRAY INTO PARTITIONS\n",
        "  partitions = flat_to_partition(X, assignments)\n",
        "  \n",
        "  \n",
        "  distance_matrix = []\n",
        "  for x in X:\n",
        "    partitions_distances = []\n",
        "    t0 = time.time()\n",
        "    for partition in partitions:\n",
        "      partitions_distances.append(distance_feature_space(x, partition, hyperparameters))\n",
        "      \n",
        "    t1 = time.time()\n",
        "    print('roda')\n",
        "    print('time', str(t1-t0))\n",
        "    distance_matrix.append(partitions_distances)\n",
        "  \n",
        "  \n",
        "  return distance_matrix\n",
        "   \n",
        "  \n",
        "\n"
      ],
      "execution_count": 0,
      "outputs": []
    },
    {
      "metadata": {
        "id": "uVrQuaGSKXRh",
        "colab_type": "text"
      },
      "cell_type": "markdown",
      "source": [
        "**HYPERPARAMETERS CALC**"
      ]
    },
    {
      "metadata": {
        "id": "2RfKtyDxKYJ7",
        "colab_type": "code",
        "colab": {}
      },
      "cell_type": "code",
      "source": [
        "def pi(X, h, hyperparameters, p, assignment):\n",
        "  portion_between_xk_Pi = 0\n",
        "  addition = 0\n",
        "  #len (hyperparameters)\n",
        "  #change instead of 7\n",
        "  for i in range(0,7):\n",
        "    for ek in cluster_i_elements(X, assignment, i):\n",
        "      for el in cluster_i_elements(X, assignment, i):\n",
        "        portion_between_xk_Pi += (kernel(ek, el, hyperparameters, p)*((ek[h]-el[h])**2))\n",
        "    addition += portion_between_xk_Pi*1/(len(cluster_i_elements(X, assignment, i)))\n",
        "  return addition\n",
        "  \n",
        "  \n",
        "def pi_product(X, p, hyperparameters, partition):\n",
        "  product = 1\n",
        "  for i in range(0,p):\n",
        "    product *=  pi(X, i, hyperparameters, p, partition)\n",
        "  \n",
        "  return product\n",
        "\n",
        "\n",
        "def calculate_hyper_parameters(X, hyperparameters, letter_gama, p, partition):\n",
        "  \n",
        "  print()"
      ],
      "execution_count": 0,
      "outputs": []
    },
    {
      "metadata": {
        "id": "lhYImPF3LTZ_",
        "colab_type": "text"
      },
      "cell_type": "markdown",
      "source": [
        "Algorithm"
      ]
    },
    {
      "metadata": {
        "id": "4Je4nO09mpV5",
        "colab_type": "code",
        "outputId": "b0f13280-30dc-4af8-aab4-028e65b89180",
        "colab": {
          "base_uri": "https://localhost:8080/",
          "height": 877
        }
      },
      "cell_type": "code",
      "source": [
        "def kcm_f_gh(X, gama, p):\n",
        "  # Initialization\n",
        "  prototypes = random_prototypes(X)\n",
        " \n",
        "  # hyperparameters\n",
        "  hyperparameters = np.full(p, gama**(1/p))\n",
        " \n",
        "  # Initial Assignment\n",
        "  t0 = time.time()\n",
        "  assignments = initial_assign_to_cluster(X, prototypes, hyperparameters)\n",
        "  t1 = time.time()\n",
        "  \n",
        "  print('time', str(t1-t0))\n",
        "  #put if here and assign any value different of zero if nothing change\n",
        "  print(gama)\n",
        "  print(p)\n",
        "  #print(prototypes)\n",
        " \n",
        "  \n",
        "  print(assignments)\n",
        "  \n",
        "  test = 1\n",
        "  while test != 0:\n",
        "    #STEP 2: hyperparameters\n",
        "    \n",
        "    \n",
        "    \n",
        "    # STEP 1: representation_matrix \n",
        "    #too slow, review\n",
        "    representation_matrix = build_representation_matrix(X, assignments, hyperparameters)\n",
        "    print(representation_matrix)\n",
        "\n",
        "    #STEP 3 ASSIGN\n",
        "    \n",
        "    \n",
        "    \n",
        "    break\n",
        "    \n",
        " \n",
        "\n",
        "  \n",
        "\n",
        "  return\n",
        "\n",
        "\n",
        "# for DATASET... for N times\n",
        "# uncomment when run..\n",
        "#distances = define_pair_distances(X_shape_view)\n",
        "p = X_shape_view.shape[1]\n",
        "gama = 1.1998455732879525e-19 #get_gama(distances, p)\n",
        "\n",
        "kcm_f_gh(X_shape_view, gama, p)"
      ],
      "execution_count": 93,
      "outputs": [
        {
          "output_type": "stream",
          "text": [
            "(2100, 7)\n",
            "time 0.17396092414855957\n",
            "1.1998455732879525e-19\n",
            "9\n",
            "[2 2 0 ... 2 6 2]\n",
            "roda\n",
            "time 4.024428606033325\n",
            "roda\n",
            "time 3.9678447246551514\n",
            "roda\n",
            "time 3.9846291542053223\n",
            "roda\n",
            "time 3.99727463722229\n"
          ],
          "name": "stdout"
        },
        {
          "output_type": "error",
          "ename": "KeyboardInterrupt",
          "evalue": "ignored",
          "traceback": [
            "\u001b[0;31m---------------------------------------------------------------------------\u001b[0m",
            "\u001b[0;31mKeyboardInterrupt\u001b[0m                         Traceback (most recent call last)",
            "\u001b[0;32m<ipython-input-93-316078380b58>\u001b[0m in \u001b[0;36m<module>\u001b[0;34m()\u001b[0m\n\u001b[1;32m     50\u001b[0m \u001b[0mgama\u001b[0m \u001b[0;34m=\u001b[0m \u001b[0;36m1.1998455732879525e-19\u001b[0m \u001b[0;31m#get_gama(distances, p)\u001b[0m\u001b[0;34m\u001b[0m\u001b[0m\n\u001b[1;32m     51\u001b[0m \u001b[0;34m\u001b[0m\u001b[0m\n\u001b[0;32m---> 52\u001b[0;31m \u001b[0mkcm_f_gh\u001b[0m\u001b[0;34m(\u001b[0m\u001b[0mX_shape_view\u001b[0m\u001b[0;34m,\u001b[0m \u001b[0mgama\u001b[0m\u001b[0;34m,\u001b[0m \u001b[0mp\u001b[0m\u001b[0;34m)\u001b[0m\u001b[0;34m\u001b[0m\u001b[0m\n\u001b[0m",
            "\u001b[0;32m<ipython-input-93-316078380b58>\u001b[0m in \u001b[0;36mkcm_f_gh\u001b[0;34m(X, gama, p)\u001b[0m\n\u001b[1;32m     28\u001b[0m     \u001b[0;31m# STEP 1: representation_matrix\u001b[0m\u001b[0;34m\u001b[0m\u001b[0;34m\u001b[0m\u001b[0m\n\u001b[1;32m     29\u001b[0m     \u001b[0;31m#too slow, review\u001b[0m\u001b[0;34m\u001b[0m\u001b[0;34m\u001b[0m\u001b[0m\n\u001b[0;32m---> 30\u001b[0;31m     \u001b[0mrepresentation_matrix\u001b[0m \u001b[0;34m=\u001b[0m \u001b[0mbuild_representation_matrix\u001b[0m\u001b[0;34m(\u001b[0m\u001b[0mX\u001b[0m\u001b[0;34m,\u001b[0m \u001b[0massignments\u001b[0m\u001b[0;34m,\u001b[0m \u001b[0mhyperparameters\u001b[0m\u001b[0;34m)\u001b[0m\u001b[0;34m\u001b[0m\u001b[0m\n\u001b[0m\u001b[1;32m     31\u001b[0m     \u001b[0mprint\u001b[0m\u001b[0;34m(\u001b[0m\u001b[0mrepresentation_matrix\u001b[0m\u001b[0;34m)\u001b[0m\u001b[0;34m\u001b[0m\u001b[0m\n\u001b[1;32m     32\u001b[0m \u001b[0;34m\u001b[0m\u001b[0m\n",
            "\u001b[0;32m<ipython-input-92-0aa6b383b93c>\u001b[0m in \u001b[0;36mbuild_representation_matrix\u001b[0;34m(X, assignments, hyperparameters)\u001b[0m\n\u001b[1;32m     72\u001b[0m     \u001b[0mt0\u001b[0m \u001b[0;34m=\u001b[0m \u001b[0mtime\u001b[0m\u001b[0;34m.\u001b[0m\u001b[0mtime\u001b[0m\u001b[0;34m(\u001b[0m\u001b[0;34m)\u001b[0m\u001b[0;34m\u001b[0m\u001b[0m\n\u001b[1;32m     73\u001b[0m     \u001b[0;32mfor\u001b[0m \u001b[0mpartition\u001b[0m \u001b[0;32min\u001b[0m \u001b[0mpartitions\u001b[0m\u001b[0;34m:\u001b[0m\u001b[0;34m\u001b[0m\u001b[0m\n\u001b[0;32m---> 74\u001b[0;31m       \u001b[0mpartitions_distances\u001b[0m\u001b[0;34m.\u001b[0m\u001b[0mappend\u001b[0m\u001b[0;34m(\u001b[0m\u001b[0mdistance_feature_space\u001b[0m\u001b[0;34m(\u001b[0m\u001b[0mx\u001b[0m\u001b[0;34m,\u001b[0m \u001b[0mpartition\u001b[0m\u001b[0;34m,\u001b[0m \u001b[0mhyperparameters\u001b[0m\u001b[0;34m)\u001b[0m\u001b[0;34m)\u001b[0m\u001b[0;34m\u001b[0m\u001b[0m\n\u001b[0m\u001b[1;32m     75\u001b[0m \u001b[0;34m\u001b[0m\u001b[0m\n\u001b[1;32m     76\u001b[0m     \u001b[0mt1\u001b[0m \u001b[0;34m=\u001b[0m \u001b[0mtime\u001b[0m\u001b[0;34m.\u001b[0m\u001b[0mtime\u001b[0m\u001b[0;34m(\u001b[0m\u001b[0;34m)\u001b[0m\u001b[0;34m\u001b[0m\u001b[0m\n",
            "\u001b[0;32m<ipython-input-92-0aa6b383b93c>\u001b[0m in \u001b[0;36mdistance_feature_space\u001b[0;34m(xk, Pi, S)\u001b[0m\n\u001b[1;32m     23\u001b[0m   \u001b[0;32mfor\u001b[0m \u001b[0mxr\u001b[0m \u001b[0;32min\u001b[0m \u001b[0mPi\u001b[0m\u001b[0;34m:\u001b[0m\u001b[0;34m\u001b[0m\u001b[0m\n\u001b[1;32m     24\u001b[0m     \u001b[0;32mfor\u001b[0m \u001b[0mxs\u001b[0m \u001b[0;32min\u001b[0m \u001b[0mPi\u001b[0m\u001b[0;34m:\u001b[0m\u001b[0;34m\u001b[0m\u001b[0m\n\u001b[0;32m---> 25\u001b[0;31m       \u001b[0mintra_pi\u001b[0m \u001b[0;34m+=\u001b[0m \u001b[0mkernel\u001b[0m\u001b[0;34m(\u001b[0m\u001b[0mxr\u001b[0m\u001b[0;34m,\u001b[0m \u001b[0mxs\u001b[0m\u001b[0;34m,\u001b[0m \u001b[0mS\u001b[0m\u001b[0;34m)\u001b[0m\u001b[0;34m\u001b[0m\u001b[0m\n\u001b[0m\u001b[1;32m     26\u001b[0m \u001b[0;34m\u001b[0m\u001b[0m\n\u001b[1;32m     27\u001b[0m \u001b[0;34m\u001b[0m\u001b[0m\n",
            "\u001b[0;32m<ipython-input-92-0aa6b383b93c>\u001b[0m in \u001b[0;36mkernel\u001b[0;34m(xl, xk, hyperparameters)\u001b[0m\n\u001b[1;32m      1\u001b[0m \u001b[0;32mdef\u001b[0m \u001b[0mkernel\u001b[0m\u001b[0;34m(\u001b[0m\u001b[0mxl\u001b[0m\u001b[0;34m,\u001b[0m \u001b[0mxk\u001b[0m\u001b[0;34m,\u001b[0m \u001b[0mhyperparameters\u001b[0m\u001b[0;34m)\u001b[0m\u001b[0;34m:\u001b[0m\u001b[0;34m\u001b[0m\u001b[0m\n\u001b[0;32m----> 2\u001b[0;31m   \u001b[0;32mreturn\u001b[0m \u001b[0mmath\u001b[0m\u001b[0;34m.\u001b[0m\u001b[0mexp\u001b[0m\u001b[0;34m(\u001b[0m\u001b[0;34m-\u001b[0m\u001b[0;36m0.5\u001b[0m\u001b[0;34m*\u001b[0m\u001b[0msum\u001b[0m\u001b[0;34m(\u001b[0m\u001b[0mnp\u001b[0m\u001b[0;34m.\u001b[0m\u001b[0mmultiply\u001b[0m\u001b[0;34m(\u001b[0m\u001b[0;34m(\u001b[0m\u001b[0mxl\u001b[0m \u001b[0;34m-\u001b[0m \u001b[0mxk\u001b[0m\u001b[0;34m)\u001b[0m\u001b[0;34m**\u001b[0m\u001b[0;36m2\u001b[0m\u001b[0;34m,\u001b[0m \u001b[0mhyperparameters\u001b[0m\u001b[0;34m)\u001b[0m\u001b[0;34m)\u001b[0m\u001b[0;34m)\u001b[0m\u001b[0;34m\u001b[0m\u001b[0m\n\u001b[0m\u001b[1;32m      3\u001b[0m \u001b[0;34m\u001b[0m\u001b[0m\n\u001b[1;32m      4\u001b[0m \u001b[0;32mimport\u001b[0m \u001b[0mtime\u001b[0m\u001b[0;34m\u001b[0m\u001b[0m\n\u001b[1;32m      5\u001b[0m \u001b[0;34m\u001b[0m\u001b[0m\n",
            "\u001b[0;31mKeyboardInterrupt\u001b[0m: "
          ]
        }
      ]
    },
    {
      "metadata": {
        "id": "qSje898G_8u-",
        "colab_type": "code",
        "outputId": "9ba04b1a-1145-45e0-efb7-eebc3ceedc8b",
        "colab": {
          "base_uri": "https://localhost:8080/",
          "height": 116
        }
      },
      "cell_type": "code",
      "source": [
        "import multiprocessing\n",
        "from os import getpid\n",
        "\n",
        "def worker(procnum):\n",
        "    print ('process', str(procnum))\n",
        "    return procnum + 5\n",
        "\n",
        "if __name__ == '__main__':\n",
        "    pool = multiprocessing.Pool(processes = 3)\n",
        "    \n",
        "    print (pool.map(worker, range(5)))"
      ],
      "execution_count": 0,
      "outputs": [
        {
          "output_type": "stream",
          "text": [
            "process 0\n",
            "process 2\n",
            "process 1\n",
            "process 3\n",
            "process 4\n",
            "[5, 6, 7, 8, 9]\n"
          ],
          "name": "stdout"
        }
      ]
    },
    {
      "metadata": {
        "id": "vDsysDyEL1XB",
        "colab_type": "code",
        "colab": {}
      },
      "cell_type": "code",
      "source": [
        "def xl_pi(xk, Pi, S):\n",
        "  xk_pi = 0\n",
        "  for xl in Pi:\n",
        "      xk_pi += kernel(xk, xl, S)\n",
        "\n",
        "  return xk_pi/(len(Pi))\n",
        "\n",
        "def intra_pi(Pi, S):\n",
        "  intra_pi = 0\n",
        "\n",
        "  for xr in Pi:\n",
        "    for xs in Pi:\n",
        "      intra_pi += kernel(xr, xs, S)\n",
        "      \n",
        "  return intra_pi/(len(Pi)**2)\n",
        "\n",
        "def distance_feature_space(xk, Pi, S):\n",
        "  \n",
        "  \n",
        " \n",
        "  proc_xl_pi = Process(target=xl_pi, args=(xk,Pi,S, )) \n",
        "  \n",
        "  proc_intra_pi = Process(target=xl_pi, args=(xk,Pi,S, ))\n",
        "  \n",
        "  \n",
        "  \n",
        "  #proc.join()\n",
        "  #proc.join()\n",
        "    \n",
        "  return (1 - 2*(xk_pi) + intra_pi)\n"
      ],
      "execution_count": 0,
      "outputs": []
    }
  ]
}