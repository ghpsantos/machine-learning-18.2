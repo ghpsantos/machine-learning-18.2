{
  "nbformat": 4,
  "nbformat_minor": 0,
  "metadata": {
    "colab": {
      "name": "Machine Learning Project.ipynb",
      "version": "0.3.2",
      "provenance": [],
      "collapsed_sections": []
    },
    "kernelspec": {
      "name": "python3",
      "display_name": "Python 3"
    },
    "accelerator": "GPU"
  },
  "cells": [
    {
      "metadata": {
        "id": "l22PIL381LOq",
        "colab_type": "text"
      },
      "cell_type": "markdown",
      "source": [
        "Reading the dataset from the Google Sheets"
      ]
    },
    {
      "metadata": {
        "id": "gVoKKYvP1Q1R",
        "colab_type": "code",
        "colab": {}
      },
      "cell_type": "code",
      "source": [
        "import pandas as pd\n",
        "import numpy as np \n",
        "\n",
        "dataset = pd.read_csv('https://drive.google.com/' + \n",
        "                   'uc?id=1xz08-XSlUjkjYbjsvXfo88uGvai12_SD&export=download')\n",
        "\n",
        "X_shape_view = dataset.iloc[:,1:10].values\n",
        "X_RGB_view = dataset.iloc[:,10:21].values\n",
        "X_full_view = dataset.iloc[:,1:21].values\n",
        "\n",
        "\n",
        "# Dropping the third and fourth column because it hasn't much variation \n",
        "X_full_view = np.delete(X_full_view, [2,4], 1)\n",
        "X_shape_view = np.delete(X_shape_view, [2,4], 1)\n",
        "\n",
        "y = dataset.iloc[:,0].values"
      ],
      "execution_count": 0,
      "outputs": []
    },
    {
      "metadata": {
        "id": "pGtUQFEc46sj",
        "colab_type": "text"
      },
      "cell_type": "markdown",
      "source": [
        "Gaussian Bayesian Classifier."
      ]
    },
    {
      "metadata": {
        "id": "1BU-Ye5f5AKb",
        "colab_type": "code",
        "colab": {}
      },
      "cell_type": "code",
      "source": [
        "from scipy.stats import multivariate_normal\n",
        "from sklearn.metrics import accuracy_score\n",
        "\n",
        "class GaussianBayesClassifier:\n",
        "  \n",
        "  def __init__(self):\n",
        "    self.classes_ = None\n",
        "    self.a_priori_probabilities_ = None\n",
        "    self.thetas_ = None\n",
        "    self.sigmas_ = None\n",
        "\n",
        "      \n",
        "  def fit(self, X, y):\n",
        "    #initializing\n",
        "    # suppose to come always in alphabetical order. if some error raise, check again\n",
        "    self.classes_ = np.unique(y)\n",
        "    self.thetas_ = []\n",
        "    self.a_priori_probabilities_ = []\n",
        "    self.sigmas_ = []\n",
        "    \n",
        "    n_samples = np.shape(X)[0]\n",
        "      \n",
        "    for y_i in self.classes_:\n",
        "      class_indexes = y == y_i\n",
        "      X_distribution = X[class_indexes,:]\n",
        "      \n",
        "      mean_values = np.mean(X_distribution, axis=0)\n",
        "      variance_values = np.var(X_distribution, axis=0)  \n",
        "      variance_matrix = np.diag(variance_values)\n",
        "      \n",
        "      self.thetas_.append(mean_values)\n",
        "      self.sigmas_.append(variance_matrix)\n",
        "      self.a_priori_probabilities_.append(np.count_nonzero(class_indexes)/n_samples)\n",
        "     \n",
        "    return self\n",
        "  \n",
        "    \n",
        "  def _get_likelihood(self, X):\n",
        "    predicted_values = []\n",
        "    accumulated_amount = 0\n",
        "    for i, y_i in enumerate(self.classes_):\n",
        "      a_priori_proba = self.a_priori_probabilities_[i]\n",
        "      density = multivariate_normal(mean=self.thetas_[i], cov=self.sigmas_[i])\n",
        "      coeficient = density.pdf(X)*a_priori_proba\n",
        "      \n",
        "      predicted_values.append(coeficient)\n",
        "      accumulated_amount += coeficient\n",
        "     \n",
        "    return (1/accumulated_amount)*np.array(predicted_values)\n",
        "    \n",
        "  def score(self, X, y_true):\n",
        "    predicts = []\n",
        "    for x in X:\n",
        "      predicts.append(self.predict(x))\n",
        "   \n",
        "    return accuracy_score(y_true, predicts)\n",
        "\n",
        "    \n",
        "  def predict(self, X):\n",
        "    if self.classes_ is None:\n",
        "      raise ValueError('O modelo ainda não foi treinado')\n",
        "    \n",
        "    llh = self._get_likelihood(X)\n",
        "    return self.classes_[np.argmax(llh)]\n",
        " \n",
        "  def predict_proba(self, X):\n",
        "    if self.classes_ is None:\n",
        "      raise ValueError('O modelo ainda não foi treinado')\n",
        "   \n",
        "    llh = self._get_likelihood(X)\n",
        "    return llh\n",
        "  \n",
        " "
      ],
      "execution_count": 0,
      "outputs": []
    },
    {
      "metadata": {
        "id": "77mXnk6zqTcB",
        "colab_type": "text"
      },
      "cell_type": "markdown",
      "source": [
        "KNN Classifier with validation of the parameter k"
      ]
    },
    {
      "metadata": {
        "id": "Tr4nFHXkqh4R",
        "colab_type": "code",
        "colab": {}
      },
      "cell_type": "code",
      "source": [
        "from sklearn.neighbors import KNeighborsClassifier\n",
        "from sklearn.model_selection import train_test_split\n",
        "from sklearn.metrics import accuracy_score\n",
        "\n",
        "class KNNWithValidation:\n",
        "  \n",
        "  def __init__(self):\n",
        "    self.k_values = np.arange(1, 31, 2)\n",
        "    self.classifier = None\n",
        "    \n",
        "  def fit(self, X, y):\n",
        "    \n",
        "    maximum_score = 0\n",
        "    k_index = 0\n",
        "    # again split the training dataset in 80-20(validation)\n",
        "    X_train, X_validation, y_train, y_validation = train_test_split(X, y,\n",
        "                                                          test_size=0.2)\n",
        "    for i,k in enumerate(self.k_values):\n",
        "      knn_c = KNeighborsClassifier(n_neighbors=k, weights='distance')\n",
        "      knn_c.fit(X_train, y_train)\n",
        "      \n",
        "      predicts = knn_c.predict(X_validation)\n",
        "      score = accuracy_score(y_validation, predicts)\n",
        "      if score > maximum_score:\n",
        "        maximum_score = score\n",
        "        k_index = i\n",
        "        \n",
        "    self.classifier = KNeighborsClassifier(n_neighbors=self.k_values[k_index], weights='distance')\n",
        "    self.classifier.fit(X,y)\n",
        "  \n",
        "  def score(self, X, y_true):\n",
        "    predicts = self.classifier.predict(X)\n",
        "    return accuracy_score(y_true, predicts)\n",
        "  \n",
        "  def predict_proba(self, X):\n",
        "    if self.classifier is None:\n",
        "      raise ValueError('O classificador não foi treinado')\n",
        "    \n",
        "    return self.classifier.predict_proba(X)[0]"
      ],
      "execution_count": 0,
      "outputs": []
    },
    {
      "metadata": {
        "id": "fcr6hvG3XWHS",
        "colab_type": "text"
      },
      "cell_type": "markdown",
      "source": [
        "Classifier given by the composition kNN, bayes e as diferentes views."
      ]
    },
    {
      "metadata": {
        "id": "resA6LwyXiG0",
        "colab_type": "code",
        "colab": {}
      },
      "cell_type": "code",
      "source": [
        "class ComposedClassifier:\n",
        "  \n",
        "  def __init__(self):\n",
        "    self.classes =  None\n",
        "    self.a_priori_probabilities = None\n",
        "  \n",
        "  def fit(self, knn_classifier_full, bayes_classifier_full, knn_classifier_shape, bayes_classifier_shape, knn_classifier_rgb, bayes_classifier_rgb):\n",
        "    \n",
        "    # Setting full view\n",
        "    self.knn_classifier_full = knn_classifier_full\n",
        "    \n",
        "    self.bayes_classifier_full = bayes_classifier_full\n",
        "    \n",
        "    # Setting shape view\n",
        "    self.knn_classifier_shape = knn_classifier_shape\n",
        "    \n",
        "    self.bayes_classifier_shape = bayes_classifier_shape\n",
        "    \n",
        "    # Setting RGB view\n",
        "    self.knn_classifier_rgb = knn_classifier_rgb\n",
        "    \n",
        "    self.bayes_classifier_rgb = bayes_classifier_rgb\n",
        "    \n",
        "    # setting classes and a priori probabilities\n",
        "    # it could be any of the bayes classifiers, it is the same\n",
        "    self.classes = self.bayes_classifier_full.classes_\n",
        "    self.a_priori_probabilities = self.bayes_classifier_full.a_priori_probabilities_\n",
        "    \n",
        "    \n",
        "  def predict(self, x_full, x_shape, x_rgb):\n",
        "    \n",
        "    train_status = [\n",
        "        self.knn_classifier_full is None,\n",
        "        self.bayes_classifier_full is None,\n",
        "        self.knn_classifier_shape is None,\n",
        "        self.bayes_classifier_shape is None,\n",
        "        self.knn_classifier_rgb is None,\n",
        "        self.bayes_classifier_rgb is None,\n",
        "        self.classes is None,\n",
        "        self.a_priori_probabilities is None\n",
        "                   ]\n",
        "    if any(train_status):\n",
        "        raise ValueError('Classificador não foi treinado')\n",
        "    \n",
        "    llh = self._get_likelihood(x_full, x_shape, x_rgb)\n",
        "    return self.classes[np.argmax(llh)]\n",
        "  \n",
        "  \n",
        "  def _get_likelihood(self, x_full, x_shape, x_rgb):\n",
        "    \n",
        "    ## Predicted Probabilities\n",
        "    full_knn_proba = self.knn_classifier_full.predict_proba([x_full])\n",
        "    full_bayes_proba = self.bayes_classifier_full.predict_proba([x_full])\n",
        "    \n",
        "    rgb_knn_proba = self.knn_classifier_rgb.predict_proba([x_rgb])\n",
        "    rgb_bayes_proba = self.bayes_classifier_rgb.predict_proba([x_rgb])\n",
        "    \n",
        "    shape_knn_proba = self.knn_classifier_shape.predict_proba([x_shape])\n",
        "    shape_bayes_proba = self.bayes_classifier_shape.predict_proba([x_shape])\n",
        "    \n",
        "    \n",
        "    predicted_probabilities = []\n",
        "    ## End Predicted Probabilities\n",
        "    for i, y_i in enumerate(self.classes):\n",
        "      prior_term = -2*self.a_priori_probabilities[i]\n",
        "      classifier_term = 3*max(\n",
        "          full_knn_proba[i],\n",
        "          full_bayes_proba[i],\n",
        "          rgb_knn_proba[i],\n",
        "          rgb_bayes_proba[i],\n",
        "          shape_knn_proba[i],\n",
        "          shape_bayes_proba[i]\n",
        "      )\n",
        "      \n",
        "     \n",
        "      predicted_probabilities.append(prior_term + classifier_term)\n",
        "      \n",
        "    return predicted_probabilities\n",
        "    \n",
        "\n",
        "  def score(self, X_full, X_shape, X_rgb, y_true):\n",
        "    \n",
        "    predicted_labels = []\n",
        "    for i, x_f in enumerate(X_full):\n",
        "      predicted_labels.append(self.predict(X_full[i,:], X_shape[i,:], X_rgb[i,:])) \n",
        "      \n",
        "    return accuracy_score(y_true, predicted_labels)"
      ],
      "execution_count": 0,
      "outputs": []
    },
    {
      "metadata": {
        "id": "w6uM6e5OElwA",
        "colab_type": "text"
      },
      "cell_type": "markdown",
      "source": [
        "30 times 10-Fold Cross Validation to get the respectives metrics"
      ]
    },
    {
      "metadata": {
        "id": "hVt1ubJWEbax",
        "colab_type": "code",
        "outputId": "a3d65ebf-ca04-47dc-95cf-d71a356f7d57",
        "colab": {
          "base_uri": "https://localhost:8080/",
          "height": 603
        }
      },
      "cell_type": "code",
      "source": [
        "from sklearn.model_selection import StratifiedKFold\n",
        "\n",
        "def runStratifiedKFold():\n",
        "  \n",
        "  skf = StratifiedKFold(n_splits=10, shuffle=True)\n",
        "\n",
        "  precisions_gaussian_full = []\n",
        "  precisions_knn_full = []\n",
        "\n",
        "  precisions_gaussian_rgb = []\n",
        "  precisions_knn_rgb = []\n",
        "\n",
        "  precisions_gaussian_shape = []\n",
        "  precisions_knn_shape = []\n",
        "\n",
        "  precisions_composed_classifier = []\n",
        "\n",
        "  for train_index, test_index in skf.split(X_shape_view, y):\n",
        "    #print(\"TRAIN:\", train_index, \"TEST:\", test_index)\n",
        "    \n",
        "    X_full_train, X_full_test = X_full_view[train_index], X_full_view[test_index]\n",
        "    X_rgb_train, X_rgb_test = X_RGB_view[train_index], X_RGB_view[test_index]\n",
        "    X_shape_train, X_shape_test = X_shape_view[train_index], X_shape_view[test_index]\n",
        "\n",
        "    y_train, y_test = y[train_index], y[test_index]\n",
        "\n",
        "    ###### full\n",
        "    bayes_classifier_full = GaussianBayesClassifier()\n",
        "    bayes_classifier_full.fit(X_full_train, y_train)\n",
        "    score_gaussian_full = bayes_classifier_full.score(X_full_test, y_test)\n",
        "    precisions_gaussian_full.append(score_gaussian_full)\n",
        "\n",
        "    knn_classifier_full = KNNWithValidation()\n",
        "    knn_classifier_full.fit(X_full_train, y_train)\n",
        "    score_knn_full = knn_classifier_full.score(X_full_test, y_test)\n",
        "    precisions_knn_full.append(score_knn_full)\n",
        "\n",
        "    ##### full\n",
        "\n",
        "    ###### rgb\n",
        "\n",
        "    bayes_classifier_rgb = GaussianBayesClassifier()\n",
        "    bayes_classifier_rgb.fit(X_rgb_train, y_train)\n",
        "    score_gaussian_rgb = bayes_classifier_rgb.score(X_rgb_test, y_test)\n",
        "    precisions_gaussian_rgb.append(score_gaussian_rgb)\n",
        "\n",
        "    knn_classifier_rgb = KNNWithValidation()\n",
        "    knn_classifier_rgb.fit(X_rgb_train, y_train)\n",
        "    score_knn_rgb = knn_classifier_rgb.score(X_rgb_test, y_test)\n",
        "    precisions_knn_rgb.append(score_knn_rgb)\n",
        "\n",
        "    ##### rgb\n",
        "\n",
        "    ##### shape\n",
        "    bayes_classifier_shape = GaussianBayesClassifier()\n",
        "    bayes_classifier_shape.fit(X_shape_train, y_train)\n",
        "    score_gaussian_shape = bayes_classifier_shape.score(X_shape_test, y_test)\n",
        "    precisions_gaussian_shape.append(score_gaussian_shape)\n",
        "\n",
        "    knn_classifier_shape = KNNWithValidation()\n",
        "    knn_classifier_shape.fit(X_shape_train, y_train)\n",
        "    score_knn_shape = knn_classifier_shape.score(X_shape_test, y_test)\n",
        "    precisions_knn_shape.append(score_knn_shape)\n",
        "\n",
        "    ##### shape\n",
        "\n",
        "    #### composed\n",
        "    composed_classifier = ComposedClassifier()\n",
        "    composed_classifier.fit(knn_classifier_full, bayes_classifier_full, knn_classifier_shape, bayes_classifier_shape, knn_classifier_rgb, bayes_classifier_rgb)\n",
        "\n",
        "    score_composed_classifier = composed_classifier.score(X_full_test, X_shape_test, X_rgb_test, y_test)\n",
        "    precisions_composed_classifier.append(score_composed_classifier)\n",
        "    #### composed\n",
        "\n",
        "\n",
        "\n",
        "  means = []\n",
        "  deviations = []\n",
        "\n",
        "  means.append(round(np.mean(precisions_gaussian_full),3))\n",
        "  deviations.append(round(np.std(precisions_gaussian_full),5))\n",
        "\n",
        "  means.append(round(np.mean(precisions_knn_full),3))\n",
        "  deviations.append(round(np.std(precisions_knn_full),5))\n",
        "\n",
        "  means.append(round(np.mean(precisions_gaussian_rgb),3))\n",
        "  deviations.append(round(np.std(precisions_gaussian_rgb),5))\n",
        "\n",
        "  means.append(round(np.mean(precisions_knn_rgb),3))\n",
        "  deviations.append(round(np.std(precisions_knn_rgb),5))\n",
        "\n",
        "  means.append(round(np.mean(precisions_gaussian_shape),3))\n",
        "  deviations.append(round(np.std(precisions_gaussian_shape),5))\n",
        "\n",
        "  means.append(round(np.mean(precisions_knn_shape),3))\n",
        "  deviations.append(round(np.std(precisions_knn_shape),5))\n",
        "\n",
        "  means.append(round(np.mean(precisions_composed_classifier),3))\n",
        "  deviations.append(round(np.std(precisions_composed_classifier),5))\n",
        "\n",
        "  return means, deviations\n",
        "\n",
        "\n",
        "\n",
        "performance = []\n",
        "stds = []\n",
        "# 30 times 10-Fold Validation\n",
        "for i in range(30):\n",
        "  print('ITERAÇÃO ', str(i))\n",
        "  mean, std = runStratifiedKFold()\n",
        "  #print(mean)\n",
        "  #print(std)\n",
        "  performance.append(mean)\n",
        "  stds.append(std)\n",
        "  \n",
        "print(performance)\n",
        "print(stds)\n",
        "\n",
        "std_general = np.std(performance, axis=0)\n",
        "print(std_general)\n",
        "\n",
        "# calculate deviation by column\n",
        "\n",
        "\n",
        "\n",
        "## LEMBRAR DE VER COMO FAZER A COMPARAÇÃO ENTRE OS 3 CLASSIFICADORES ( PQ O CLASSIFICADOR COMPOSTO VAI TER UMA MÉTRICA SÓ E OS OUTROS 3)\n"
      ],
      "execution_count": 5,
      "outputs": [
        {
          "output_type": "stream",
          "text": [
            "ITERAÇÃO  0\n",
            "ITERAÇÃO  1\n",
            "ITERAÇÃO  2\n",
            "ITERAÇÃO  3\n",
            "ITERAÇÃO  4\n",
            "ITERAÇÃO  5\n",
            "ITERAÇÃO  6\n",
            "ITERAÇÃO  7\n",
            "ITERAÇÃO  8\n",
            "ITERAÇÃO  9\n",
            "ITERAÇÃO  10\n",
            "ITERAÇÃO  11\n",
            "ITERAÇÃO  12\n",
            "ITERAÇÃO  13\n",
            "ITERAÇÃO  14\n",
            "ITERAÇÃO  15\n",
            "ITERAÇÃO  16\n",
            "ITERAÇÃO  17\n",
            "ITERAÇÃO  18\n",
            "ITERAÇÃO  19\n",
            "ITERAÇÃO  20\n",
            "ITERAÇÃO  21\n",
            "ITERAÇÃO  22\n",
            "ITERAÇÃO  23\n",
            "ITERAÇÃO  24\n",
            "ITERAÇÃO  25\n",
            "ITERAÇÃO  26\n",
            "ITERAÇÃO  27\n",
            "ITERAÇÃO  28\n",
            "ITERAÇÃO  29\n",
            "[[0.801, 0.957, 0.79, 0.896, 0.495, 0.617, 0.935], [0.801, 0.955, 0.797, 0.896, 0.491, 0.615, 0.917], [0.799, 0.956, 0.794, 0.897, 0.495, 0.612, 0.93], [0.8, 0.957, 0.795, 0.887, 0.49, 0.609, 0.906], [0.801, 0.96, 0.795, 0.896, 0.49, 0.609, 0.933], [0.799, 0.957, 0.798, 0.892, 0.491, 0.607, 0.885], [0.8, 0.955, 0.798, 0.896, 0.493, 0.607, 0.923], [0.802, 0.958, 0.796, 0.894, 0.487, 0.612, 0.947], [0.799, 0.956, 0.797, 0.9, 0.49, 0.612, 0.922], [0.8, 0.955, 0.787, 0.892, 0.488, 0.618, 0.935], [0.8, 0.955, 0.794, 0.895, 0.488, 0.601, 0.927], [0.803, 0.956, 0.796, 0.901, 0.491, 0.603, 0.902], [0.804, 0.954, 0.794, 0.891, 0.492, 0.611, 0.92], [0.802, 0.957, 0.798, 0.898, 0.492, 0.612, 0.911], [0.796, 0.956, 0.796, 0.895, 0.493, 0.611, 0.909], [0.801, 0.955, 0.797, 0.889, 0.491, 0.612, 0.91], [0.803, 0.951, 0.798, 0.902, 0.489, 0.608, 0.937], [0.799, 0.953, 0.793, 0.902, 0.488, 0.594, 0.939], [0.801, 0.959, 0.795, 0.896, 0.495, 0.606, 0.909], [0.799, 0.959, 0.792, 0.898, 0.49, 0.593, 0.916], [0.8, 0.958, 0.797, 0.898, 0.49, 0.618, 0.935], [0.8, 0.955, 0.797, 0.895, 0.493, 0.595, 0.907], [0.801, 0.957, 0.795, 0.898, 0.491, 0.61, 0.921], [0.799, 0.95, 0.793, 0.899, 0.493, 0.598, 0.9], [0.799, 0.958, 0.796, 0.897, 0.493, 0.615, 0.91], [0.8, 0.954, 0.79, 0.896, 0.492, 0.602, 0.92], [0.801, 0.955, 0.795, 0.902, 0.488, 0.598, 0.923], [0.801, 0.956, 0.8, 0.899, 0.49, 0.611, 0.926], [0.801, 0.955, 0.798, 0.899, 0.488, 0.611, 0.945], [0.8, 0.96, 0.796, 0.898, 0.494, 0.6, 0.937]]\n",
            "[[0.01829, 0.01669, 0.02182, 0.01829, 0.01475, 0.02867, 0.03124], [0.02051, 0.01433, 0.03962, 0.016, 0.01854, 0.0337, 0.05338], [0.01429, 0.01296, 0.01782, 0.01536, 0.01683, 0.02185, 0.05414], [0.02176, 0.01278, 0.02672, 0.01727, 0.02054, 0.02134, 0.07441], [0.02398, 0.0119, 0.02151, 0.01286, 0.03092, 0.02248, 0.05231], [0.01857, 0.01175, 0.02786, 0.02529, 0.03, 0.03823, 0.05389], [0.0171, 0.01433, 0.01931, 0.01874, 0.02001, 0.03864, 0.02658], [0.02495, 0.01591, 0.01813, 0.02669, 0.01413, 0.01798, 0.02848], [0.01413, 0.01566, 0.01187, 0.01223, 0.01922, 0.02412, 0.04483], [0.02102, 0.01784, 0.02314, 0.01998, 0.02315, 0.032, 0.02109], [0.0185, 0.01896, 0.026, 0.02025, 0.01639, 0.03557, 0.05341], [0.01551, 0.00879, 0.03311, 0.01296, 0.01696, 0.02485, 0.07166], [0.01547, 0.01299, 0.03235, 0.01926, 0.01331, 0.024, 0.04685], [0.01667, 0.00837, 0.021, 0.02402, 0.01989, 0.02174, 0.05509], [0.02681, 0.01243, 0.02542, 0.0182, 0.02256, 0.02565, 0.06197], [0.01633, 0.01525, 0.02119, 0.02225, 0.02884, 0.04047, 0.05734], [0.01693, 0.01562, 0.02787, 0.01596, 0.02305, 0.02484, 0.01704], [0.0235, 0.01371, 0.02056, 0.01834, 0.02383, 0.04476, 0.02051], [0.01754, 0.01636, 0.02352, 0.01914, 0.02268, 0.04062, 0.07352], [0.02054, 0.01296, 0.02174, 0.0172, 0.02304, 0.02827, 0.07291], [0.01775, 0.00791, 0.01718, 0.01784, 0.02547, 0.03537, 0.01639], [0.00963, 0.01433, 0.03224, 0.01704, 0.02393, 0.03357, 0.06213], [0.01261, 0.018, 0.03874, 0.01772, 0.02524, 0.03669, 0.06065], [0.01881, 0.01112, 0.01895, 0.01533, 0.02439, 0.02163, 0.05498], [0.01591, 0.01274, 0.01343, 0.01941, 0.02078, 0.02228, 0.0658], [0.01286, 0.01718, 0.01998, 0.01961, 0.0172, 0.02316, 0.05803], [0.0189, 0.01908, 0.02228, 0.01091, 0.02316, 0.02392, 0.05803], [0.02007, 0.01082, 0.02456, 0.01914, 0.0214, 0.03152, 0.04701], [0.01973, 0.01027, 0.02205, 0.02292, 0.02882, 0.03027, 0.01989], [0.01436, 0.01299, 0.02084, 0.02, 0.01731, 0.02371, 0.04532]]\n",
            "[0.00151877 0.00225807 0.00275298 0.00358453 0.00224326 0.00698896\n",
            " 0.01433105]\n"
          ],
          "name": "stdout"
        }
      ]
    },
    {
      "metadata": {
        "id": "e_YSOT7wxoLU",
        "colab_type": "text"
      },
      "cell_type": "markdown",
      "source": [
        "EXPORTING RESULTS TO STORE RESULT (OPTIONAL)"
      ]
    },
    {
      "metadata": {
        "id": "YTun6ZE6wBh0",
        "colab_type": "code",
        "colab": {
          "base_uri": "https://localhost:8080/",
          "height": 103
        },
        "outputId": "c8a879c0-9450-4e08-aa7d-08bb8264bf94"
      },
      "cell_type": "code",
      "source": [
        "import pandas as pd \n",
        "print(performance)\n",
        "df = pd.DataFrame(performance, columns=[\"Bayes-Full\", \"KNN-Full\", \"Bayes-RGB\", \"KNN-RGB\", \"Bayes-Shape\", \"KNN-Shape\", \"Composed-Classifier\"])\n",
        "df.to_csv(\"performance.csv\", index=False)\n",
        "\n",
        "print(stds)\n",
        "df_std = pd.DataFrame(stds)\n",
        "df_std.to_csv(\"stds_punctual.csv\", header=None, index=False)\n",
        "\n",
        "print(std_general)\n",
        "df_std = pd.DataFrame(std_general)\n",
        "df_std.to_csv(\"stds_general.csv\", header=None, index=False)\n",
        "\n",
        "from google.colab import files\n",
        "files.download(\"performance.csv\")\n",
        "\n",
        "files.download(\"stds_punctual.csv\")\n",
        "\n",
        "files.download(\"stds_general.csv\")\n"
      ],
      "execution_count": 6,
      "outputs": [
        {
          "output_type": "stream",
          "text": [
            "[[0.801, 0.957, 0.79, 0.896, 0.495, 0.617, 0.935], [0.801, 0.955, 0.797, 0.896, 0.491, 0.615, 0.917], [0.799, 0.956, 0.794, 0.897, 0.495, 0.612, 0.93], [0.8, 0.957, 0.795, 0.887, 0.49, 0.609, 0.906], [0.801, 0.96, 0.795, 0.896, 0.49, 0.609, 0.933], [0.799, 0.957, 0.798, 0.892, 0.491, 0.607, 0.885], [0.8, 0.955, 0.798, 0.896, 0.493, 0.607, 0.923], [0.802, 0.958, 0.796, 0.894, 0.487, 0.612, 0.947], [0.799, 0.956, 0.797, 0.9, 0.49, 0.612, 0.922], [0.8, 0.955, 0.787, 0.892, 0.488, 0.618, 0.935], [0.8, 0.955, 0.794, 0.895, 0.488, 0.601, 0.927], [0.803, 0.956, 0.796, 0.901, 0.491, 0.603, 0.902], [0.804, 0.954, 0.794, 0.891, 0.492, 0.611, 0.92], [0.802, 0.957, 0.798, 0.898, 0.492, 0.612, 0.911], [0.796, 0.956, 0.796, 0.895, 0.493, 0.611, 0.909], [0.801, 0.955, 0.797, 0.889, 0.491, 0.612, 0.91], [0.803, 0.951, 0.798, 0.902, 0.489, 0.608, 0.937], [0.799, 0.953, 0.793, 0.902, 0.488, 0.594, 0.939], [0.801, 0.959, 0.795, 0.896, 0.495, 0.606, 0.909], [0.799, 0.959, 0.792, 0.898, 0.49, 0.593, 0.916], [0.8, 0.958, 0.797, 0.898, 0.49, 0.618, 0.935], [0.8, 0.955, 0.797, 0.895, 0.493, 0.595, 0.907], [0.801, 0.957, 0.795, 0.898, 0.491, 0.61, 0.921], [0.799, 0.95, 0.793, 0.899, 0.493, 0.598, 0.9], [0.799, 0.958, 0.796, 0.897, 0.493, 0.615, 0.91], [0.8, 0.954, 0.79, 0.896, 0.492, 0.602, 0.92], [0.801, 0.955, 0.795, 0.902, 0.488, 0.598, 0.923], [0.801, 0.956, 0.8, 0.899, 0.49, 0.611, 0.926], [0.801, 0.955, 0.798, 0.899, 0.488, 0.611, 0.945], [0.8, 0.96, 0.796, 0.898, 0.494, 0.6, 0.937]]\n",
            "[[0.01829, 0.01669, 0.02182, 0.01829, 0.01475, 0.02867, 0.03124], [0.02051, 0.01433, 0.03962, 0.016, 0.01854, 0.0337, 0.05338], [0.01429, 0.01296, 0.01782, 0.01536, 0.01683, 0.02185, 0.05414], [0.02176, 0.01278, 0.02672, 0.01727, 0.02054, 0.02134, 0.07441], [0.02398, 0.0119, 0.02151, 0.01286, 0.03092, 0.02248, 0.05231], [0.01857, 0.01175, 0.02786, 0.02529, 0.03, 0.03823, 0.05389], [0.0171, 0.01433, 0.01931, 0.01874, 0.02001, 0.03864, 0.02658], [0.02495, 0.01591, 0.01813, 0.02669, 0.01413, 0.01798, 0.02848], [0.01413, 0.01566, 0.01187, 0.01223, 0.01922, 0.02412, 0.04483], [0.02102, 0.01784, 0.02314, 0.01998, 0.02315, 0.032, 0.02109], [0.0185, 0.01896, 0.026, 0.02025, 0.01639, 0.03557, 0.05341], [0.01551, 0.00879, 0.03311, 0.01296, 0.01696, 0.02485, 0.07166], [0.01547, 0.01299, 0.03235, 0.01926, 0.01331, 0.024, 0.04685], [0.01667, 0.00837, 0.021, 0.02402, 0.01989, 0.02174, 0.05509], [0.02681, 0.01243, 0.02542, 0.0182, 0.02256, 0.02565, 0.06197], [0.01633, 0.01525, 0.02119, 0.02225, 0.02884, 0.04047, 0.05734], [0.01693, 0.01562, 0.02787, 0.01596, 0.02305, 0.02484, 0.01704], [0.0235, 0.01371, 0.02056, 0.01834, 0.02383, 0.04476, 0.02051], [0.01754, 0.01636, 0.02352, 0.01914, 0.02268, 0.04062, 0.07352], [0.02054, 0.01296, 0.02174, 0.0172, 0.02304, 0.02827, 0.07291], [0.01775, 0.00791, 0.01718, 0.01784, 0.02547, 0.03537, 0.01639], [0.00963, 0.01433, 0.03224, 0.01704, 0.02393, 0.03357, 0.06213], [0.01261, 0.018, 0.03874, 0.01772, 0.02524, 0.03669, 0.06065], [0.01881, 0.01112, 0.01895, 0.01533, 0.02439, 0.02163, 0.05498], [0.01591, 0.01274, 0.01343, 0.01941, 0.02078, 0.02228, 0.0658], [0.01286, 0.01718, 0.01998, 0.01961, 0.0172, 0.02316, 0.05803], [0.0189, 0.01908, 0.02228, 0.01091, 0.02316, 0.02392, 0.05803], [0.02007, 0.01082, 0.02456, 0.01914, 0.0214, 0.03152, 0.04701], [0.01973, 0.01027, 0.02205, 0.02292, 0.02882, 0.03027, 0.01989], [0.01436, 0.01299, 0.02084, 0.02, 0.01731, 0.02371, 0.04532]]\n",
            "[0.00151877 0.00225807 0.00275298 0.00358453 0.00224326 0.00698896\n",
            " 0.01433105]\n"
          ],
          "name": "stdout"
        }
      ]
    },
    {
      "metadata": {
        "id": "CGU1ILnnxriD",
        "colab_type": "text"
      },
      "cell_type": "markdown",
      "source": [
        "IMPORTING RESULTS (OPTIONAL)"
      ]
    },
    {
      "metadata": {
        "id": "xFOeFhvIxyD8",
        "colab_type": "code",
        "outputId": "f5fd4d97-58f0-437b-9ff0-1b3a212342ad",
        "colab": {
          "base_uri": "https://localhost:8080/",
          "height": 133
        }
      },
      "cell_type": "code",
      "source": [
        "uploaded = files.upload()\n",
        "\n",
        "#names...\n",
        "df = pd.read_csv('performance.csv')\n",
        "print(df)\n",
        "\n",
        "#print('pula')\n",
        "#print(df['Bayes-Full'])"
      ],
      "execution_count": 10,
      "outputs": [
        {
          "output_type": "stream",
          "text": [
            "   Bayes-Full  KNN-Full  Bayes-RGB  KNN-RGB  Bayes-Shape  KNN-Shape  \\\n",
            "0       0.815     0.957      0.805    0.890        0.510      0.610   \n",
            "1       0.806     0.951      0.783    0.884        0.483      0.612   \n",
            "\n",
            "   Composed-Classifier  \n",
            "0                0.948  \n",
            "1                0.928  \n"
          ],
          "name": "stdout"
        }
      ]
    },
    {
      "metadata": {
        "id": "2dE9oiz_v-hc",
        "colab_type": "text"
      },
      "cell_type": "markdown",
      "source": [
        "FRIEDMAN TEST"
      ]
    },
    {
      "metadata": {
        "id": "CNUu3sa6zjMH",
        "colab_type": "code",
        "outputId": "ad754f4f-8ba8-4c9d-e90c-6bc5c6230d1f",
        "colab": {
          "base_uri": "https://localhost:8080/",
          "height": 166
        }
      },
      "cell_type": "code",
      "source": [
        "import scipy as sp\n",
        "import scipy.stats as st\n",
        "import itertools as it\n",
        "\n",
        "import scipy.special as special\n",
        "\n",
        "\n",
        "\n",
        "def friedman_test(*args):\n",
        "    # SOURCE: STAC LIBRARY (http://tec.citius.usc.es/stac/doc/index.htm)\n",
        "    # With some modifications\n",
        "    \n",
        "    k = len(args)\n",
        "    if k < 2: raise ValueError('Less than 2 levels')\n",
        "    n = len(args[0])\n",
        "    if len(set([len(v) for v in args])) != 1: raise ValueError('Unequal number of samples')\n",
        "\n",
        "    rankings = []\n",
        "    for i in range(n):\n",
        "        row = [col[i] for col in args]\n",
        "        row_sort = sorted(row, reverse=True)        \n",
        "        rankings.append([row_sort.index(v) + 1 + (row_sort.count(v)-1)/2. for v in row])\n",
        "\n",
        "    \n",
        "    rankings_avg = [sp.mean([case[j] for case in rankings]) for j in range(k)]\n",
        "    \n",
        "    #rankings_cmp = [r/sp.sqrt(k*(k+1)/(6.*n)) for r in rankings_avg]\n",
        "    \n",
        "    chi2 = ((12*n)/float((k*(k+1))))*((sp.sum(r**2 for r in rankings_avg))-((k*(k+1)**2)/float(4)))\n",
        "    iman_davenport = ((n-1)*chi2)/float((n*(k-1)-chi2))\n",
        "    \n",
        "    p_value = 1 - st.f.cdf(iman_davenport, k-1, (k-1)*(n-1))\n",
        "    \n",
        "    critical_value_alpha_five = st.f.ppf(q=1-0.05, dfn=(k-1), dfd=(k-1)*(n-1))\n",
        "    critical_value_alpha_ten = st.f.ppf(q=1-0.10, dfn=(k-1), dfd=(k-1)*(n-1))\n",
        "    \n",
        "    reject_null_hypothesis_alpha_five = iman_davenport > critical_value_alpha_five\n",
        "    reject_null_hypothesis_alpha_ten = iman_davenport > critical_value_alpha_ten\n",
        "    \n",
        "   \n",
        "    print('optional - chi :', str(chi2))\n",
        "    print('iman_davenport: ', str(iman_davenport))\n",
        "    print('critical_value p-0.05: ', str(critical_value_alpha_five))\n",
        "    print('critical_value p-0.10: ', str(critical_value_alpha_ten))\n",
        "\n",
        "    return reject_null_hypothesis_alpha_five, reject_null_hypothesis_alpha_ten , rankings_avg, p_value\n",
        "\n",
        "\n",
        "reject_null_hypothesis_alpha_five, reject_null_hypothesis_alpha_ten, ranks, p_value = friedman_test(df['Bayes-Full'].tolist(), df['KNN-Full'].tolist(),\n",
        "                                                                                                    df['Bayes-RGB'].tolist(), df['KNN-RGB'].tolist(),\n",
        "                                                                                                    df['Bayes-Shape'].tolist(), df['KNN-Shape'].tolist(),\n",
        "                                                                                                    df['Composed-Classifier'].tolist()\n",
        "                                                                                                   )\n",
        "if reject_null_hypothesis_alpha_five or reject_null_hypothesis_alpha_ten:\n",
        "  if reject_null_hypothesis_alpha_five:\n",
        "    print('Reject the null hypothesis α = 0.05')\n",
        "  else:\n",
        "    print('Reject the null hypothesis α = 0.10')\n",
        "    \n",
        "  print('Ranks: ')\n",
        "  print(ranks)\n",
        "\n",
        "  print('p-value: ' + str(p_value))\n",
        "  \n",
        "  print('PROCEED TO POST-HOC TEST')\n",
        "    \n",
        "else:\n",
        "  print('DO NOT REJECT THE NULL HYPOTHESIS, THERE IS NO NEED TO PROCEED TO POST-HOC TESTS')\n",
        "\n"
      ],
      "execution_count": 24,
      "outputs": [
        {
          "output_type": "stream",
          "text": [
            "optional - chi : 179.37499999999997\n",
            "iman_davenport:  8322.99999999962\n",
            "critical_value p-0.05:  2.151016183434831\n",
            "critical_value p-0.10:  1.8082592365994803\n",
            "Reject the null hypothesis α = 0.05\n",
            "Ranks: \n",
            "[4.016666666666667, 1.0, 4.983333333333333, 2.966666666666667, 7.0, 6.0, 2.033333333333333]\n",
            "p-value: 1.1102230246251565e-16\n",
            "PROCEED TO POST-HOC TEST\n"
          ],
          "name": "stdout"
        }
      ]
    },
    {
      "metadata": {
        "id": "UxnXIoY7pGsa",
        "colab_type": "text"
      },
      "cell_type": "markdown",
      "source": [
        "INSTALLING ORANGE, NEEDED TO  NEMENYI TEST"
      ]
    },
    {
      "metadata": {
        "id": "n1sxOa1mopIO",
        "colab_type": "code",
        "colab": {}
      },
      "cell_type": "code",
      "source": [
        "!pip install orange3\n"
      ],
      "execution_count": 0,
      "outputs": []
    },
    {
      "metadata": {
        "id": "Ec8SkoslpLni",
        "colab_type": "code",
        "outputId": "ea66fdfd-cddd-4d09-9449-ff211958b641",
        "colab": {
          "base_uri": "https://localhost:8080/",
          "height": 508
        }
      },
      "cell_type": "code",
      "source": [
        "import Orange as orange\n",
        "names = [\"Bayes Full\", \"KNN Full\", \"Bayes RGB\", \"KNN RGB\", \"Bayes Shape\", \"KNN Shape\", \"Composed Classifier\"]\n",
        "avranks = ranks\n",
        "#### PAY ATTENTION ON THIS VARIABLE, REMEMBER TO CHANGE IT WHEN SOMETHING CHANGES\n",
        "num_of_datasets = 30\n",
        "\n",
        "print(ranks)\n",
        "\n",
        "cd_ten = orange.evaluation.compute_CD(avranks, num_of_datasets, alpha='0.1', test=\"nemenyi\")\n",
        "cd_five = orange.evaluation.compute_CD(avranks, num_of_datasets, alpha='0.05', test=\"nemenyi\") \n",
        "\n",
        "\n",
        "print('p - 0.10')\n",
        "print('CD: ' + str(cd_ten))\n",
        "orange.evaluation.graph_ranks(avranks, names, cd=cd_ten, width=10, textspace=1.5, reverse=True)\n",
        "\n",
        "\n",
        "print('p - 0.05')\n",
        "print('CD: ' + str(cd_five))\n",
        "orange.evaluation.graph_ranks(avranks, names, cd=cd_five, width=10, textspace=1.5,reverse=True)\n",
        "\n",
        "\n"
      ],
      "execution_count": 16,
      "outputs": [
        {
          "output_type": "stream",
          "text": [
            "[4.016666666666667, 1.0, 4.983333333333333, 2.966666666666667, 7.0, 6.0, 2.033333333333333]\n",
            "p - 0.10\n",
            "CD: 1.501934151046103\n",
            "p - 0.05\n",
            "CD: 1.644494326287297\n"
          ],
          "name": "stdout"
        },
        {
          "output_type": "display_data",
          "data": {
            "image/png": "[encoded data removed]",
            "text/plain": [
              "<matplotlib.figure.Figure at 0x7fda938fe9e8>"
            ]
          },
          "metadata": {
            "tags": []
          }
        },
        {
          "output_type": "display_data",
          "data": {
            "image/png": "[encoded data removed]",
            "text/plain": [
              "<matplotlib.figure.Figure at 0x7fda9383bcf8>"
            ]
          },
          "metadata": {
            "tags": []
          }
        }
      ]
    }
  ]
}